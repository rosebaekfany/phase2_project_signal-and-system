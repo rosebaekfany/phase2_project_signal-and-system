{
 "cells": [
  {
   "cell_type": "markdown",
   "metadata": {},
   "source": [
    "$Signal\\;and\\;system$"
   ]
  },
  {
   "cell_type": "markdown",
   "metadata": {},
   "source": [
    "$Phase\\;2$"
   ]
  },
  {
   "cell_type": "code",
   "execution_count": 24,
   "metadata": {},
   "outputs": [],
   "source": [
    "import cv2\n",
    "import pydub\n",
    "import numpy as np\n",
    "import sounddevice as sd\n",
    "from matplotlib import pyplot as plt\n",
    "from scipy.io.wavfile import read, write"
   ]
  },
  {
   "cell_type": "code",
   "execution_count": 12,
   "metadata": {},
   "outputs": [],
   "source": [
    "notes_base = 2**(np.arange(12)/12)*27.5\n",
    "notes_duration = np.array([3200, 1600, 800, 400, 200, 100])*0.7\n",
    "notes_ann = ['A', 'A#', 'B', 'C', 'C#', 'D', 'Eb', 'E', 'F', 'F#', 'G', 'G#']\n",
    "\n",
    "def sin_wave(f, n, fs):\n",
    "    x = np.linspace(0, 2*np.pi, n)\n",
    "    ring = 30 \n",
    "    xp = np.linspace(0, -1*(n*ring/fs), n)\n",
    "    y = np.sin(x*f*(n/fs))*np.exp(xp)\n",
    "    z = np.zeros([n, 2])\n",
    "    z[:, 0] = y\n",
    "    z[:, 1] = y\n",
    "    return z\n",
    "\n",
    "def play_note(note_id, octave, dur, fs):\n",
    "    if (note_id < 3) :\n",
    "        octave += 1\n",
    "    y = sin_wave(notes_base[note_id]*2**octave, int(notes_duration[dur]*(fs/1000)), fs)\n",
    "    sd.play(y, fs)\n",
    "    sd.wait()\n",
    "    return \n",
    "\n",
    "def put_note(note_id, octave, dur, fs):\n",
    "    if (note_id < 3) :\n",
    "        octave += 1\n",
    "    y = sin_wave(notes_base[note_id]*2**octave, int(notes_duration[dur]*(fs/1000)), fs)\n",
    "    return y\n",
    "\n",
    "def get_music(music_notes, fs):\n",
    "    m = []\n",
    "    for item in music_notes:\n",
    "        y = put_note(item[0], item[1], item[2], fs)\n",
    "        m.append(y)\n",
    "    m = np.concatenate(m, 0)\n",
    "    return m\n",
    "\n",
    "fs1 = 44100\n",
    "music = [[8, 5, 3], [10, 5, 4], [10, 5, 4], [10, 5, 3], [10, 5, 3], [10, 5, 3], [10, 5, 3], [10, 5, 3], [10, 5, 3], \n",
    "        [11, 5, 4], [4, 5, 4], [11, 5, 4], [4, 5, 4], [11, 5, 4], [4, 5, 4], [11, 5, 4], [4, 5, 4], [3, 5, 3], \n",
    "        [8, 5, 4], [8, 5, 4], [8, 5, 3], [8, 5, 3], [8, 5, 3], [8, 5, 3], [8, 5, 3], [8, 5, 3], \n",
    "        [10, 5, 4], [3, 5, 4], [10, 5, 4], [3, 5, 4], [10, 5, 4], [3, 5, 4], [10, 5, 4], [3, 5, 4], [1, 4, 3]]\n",
    "\n",
    "y = get_music(music, fs1)\n",
    "sd.play(y, fs1)"
   ]
  },
  {
   "cell_type": "code",
   "execution_count": 14,
   "metadata": {},
   "outputs": [],
   "source": [
    "Scale = [[3,4,3], [5,4,3], [7,4,3], [8,4,3], [10,4,3], [0,4,3], [2,4,3], [3,5,3], \n",
    "        [2,4,3], [0,4,3], [10,4,3], [8,4,3], [7,4,3], [5,4,3], [3,4,3]]\n",
    "\n",
    "y = get_music(Scale, fs1)\n",
    "sd.play(y, fs1)"
   ]
  },
  {
   "cell_type": "markdown",
   "metadata": {},
   "source": [
    "$Matching\\;Template$"
   ]
  },
  {
   "cell_type": "code",
   "execution_count": 3,
   "metadata": {},
   "outputs": [],
   "source": [
    "template_path = 'template.jpg'\n",
    "background_path = 'background.jpg'\n",
    "\n",
    "template = cv2.imread(template_path)\n",
    "background = cv2.imread(background_path)\n",
    "\n",
    "template_gray = cv2.cvtColor(template, cv2.COLOR_BGR2GRAY)\n",
    "background_gray = cv2.cvtColor(background, cv2.COLOR_BGR2GRAY)"
   ]
  },
  {
   "cell_type": "code",
   "execution_count": 4,
   "metadata": {},
   "outputs": [],
   "source": [
    "result = cv2.matchTemplate(background_gray, template_gray, cv2.TM_CCOEFF_NORMED)\n",
    "\n",
    "min_val, max_val, min_loc, max_loc = cv2.minMaxLoc(result)\n",
    "top_left = max_loc\n",
    "bottom_right = (top_left[0] + template.shape[1], top_left[1] + template.shape[0])"
   ]
  },
  {
   "cell_type": "code",
   "execution_count": 5,
   "metadata": {},
   "outputs": [
    {
     "data": {
      "text/plain": [
       "array([[[136, 159, 204],\n",
       "        [139, 162, 207],\n",
       "        [143, 166, 211],\n",
       "        ...,\n",
       "        [131, 153, 201],\n",
       "        [127, 150, 198],\n",
       "        [121, 144, 192]],\n",
       "\n",
       "       [[154, 178, 220],\n",
       "        [152, 176, 218],\n",
       "        [148, 172, 214],\n",
       "        ...,\n",
       "        [126, 149, 194],\n",
       "        [123, 146, 192],\n",
       "        [117, 142, 186]],\n",
       "\n",
       "       [[145, 171, 208],\n",
       "        [144, 170, 207],\n",
       "        [143, 169, 206],\n",
       "        ...,\n",
       "        [127, 150, 188],\n",
       "        [126, 148, 189],\n",
       "        [120, 146, 183]],\n",
       "\n",
       "       ...,\n",
       "\n",
       "       [[192, 200, 200],\n",
       "        [191, 199, 199],\n",
       "        [190, 198, 198],\n",
       "        ...,\n",
       "        [175, 181, 180],\n",
       "        [177, 183, 182],\n",
       "        [179, 185, 184]],\n",
       "\n",
       "       [[192, 200, 200],\n",
       "        [191, 199, 199],\n",
       "        [190, 198, 198],\n",
       "        ...,\n",
       "        [175, 181, 180],\n",
       "        [177, 183, 182],\n",
       "        [179, 185, 184]],\n",
       "\n",
       "       [[192, 200, 200],\n",
       "        [191, 199, 199],\n",
       "        [190, 198, 198],\n",
       "        ...,\n",
       "        [175, 181, 180],\n",
       "        [177, 183, 182],\n",
       "        [179, 185, 184]]], dtype=uint8)"
      ]
     },
     "execution_count": 5,
     "metadata": {},
     "output_type": "execute_result"
    }
   ],
   "source": [
    "cv2.rectangle(background, top_left, bottom_right, (0, 255, 0), 2)"
   ]
  },
  {
   "cell_type": "code",
   "execution_count": 11,
   "metadata": {},
   "outputs": [
    {
     "data": {
      "text/plain": [
       "True"
      ]
     },
     "execution_count": 11,
     "metadata": {},
     "output_type": "execute_result"
    }
   ],
   "source": [
    "cv2.imshow('Result', background)\n",
    "cv2.waitKey(0)\n",
    "cv2.destroyAllWindows()\n",
    "cv2.imwrite('TemplateMatching.jpg', background)"
   ]
  },
  {
   "cell_type": "markdown",
   "metadata": {},
   "source": [
    "$Twinkle,Twinkle, Little, Star$"
   ]
  },
  {
   "cell_type": "code",
   "execution_count": 163,
   "metadata": {},
   "outputs": [],
   "source": [
    "template_path = 'B3.jpg'\n",
    "background_path = 'Twinkle, Twinkle, Little Star.jpg'\n",
    "\n",
    "template = cv2.imread(template_path)\n",
    "background = cv2.imread(background_path)\n",
    "\n",
    "template_gray = cv2.cvtColor(template, cv2.COLOR_BGR2GRAY)\n",
    "background_gray = cv2.cvtColor(background, cv2.COLOR_BGR2GRAY)\n",
    " "
   ]
  },
  {
   "cell_type": "code",
   "execution_count": 164,
   "metadata": {},
   "outputs": [],
   "source": [
    "result = cv2.matchTemplate(background_gray, template_gray, cv2.TM_CCOEFF_NORMED)\n",
    "\n",
    "threshold = 0.75\n",
    "locations = np.where(result >= threshold)\n",
    "\n",
    "for pt in zip(*locations[::-1]):\n",
    "    cv2.rectangle(background, pt , (pt[0] + 40 , pt[1] + 20), (0, 255, 0), 1)\n"
   ]
  },
  {
   "cell_type": "code",
   "execution_count": null,
   "metadata": {},
   "outputs": [],
   "source": [
    "cv2.imshow('Result', background)\n",
    "cv2.waitKey(0)\n",
    "cv2.destroyAllWindows()"
   ]
  },
  {
   "cell_type": "code",
   "execution_count": 166,
   "metadata": {
    "scrolled": true
   },
   "outputs": [
    {
     "data": {
      "text/plain": [
       "True"
      ]
     },
     "execution_count": 166,
     "metadata": {},
     "output_type": "execute_result"
    }
   ],
   "source": [
    "image = cv2.imread('Twinkle, Twinkle, Little Star.jpg')\n",
    "\n",
    "gray = image\n",
    "\n",
    "edges = cv2.Canny(gray,50,150,apertureSize=3)\n",
    "\n",
    "lines_list =[]\n",
    "lines = cv2.HoughLinesP(\n",
    "            edges, # Input edge image\n",
    "            1, # Distance resolution in pixels\n",
    "            np.pi/180, # Angle resolution in radians\n",
    "            threshold=100, # Min number of votes for valid line\n",
    "            minLineLength=3, # Min allowed length of line\n",
    "            maxLineGap=10 # Max allowed gap between line for joining them\n",
    "            )\n",
    "  \n",
    "# Iterate over points\n",
    "for points in lines:\n",
    "      # Extracted points nested in the list\n",
    "    x1,y1,x2,y2=points[0]\n",
    "    # Draw the lines joing the points\n",
    "    # On the original image\n",
    "    cv2.line(image,(x1,y1),(x2,y2),(0,255,0),2)\n",
    "    # Maintain a simples lookup list for points\n",
    "    lines_list.append([(x1,y1),(x2,y2)])\n",
    "      \n",
    "# Save the result image\n",
    "cv2.imwrite('detectedLines.png',image)"
   ]
  },
  {
   "cell_type": "code",
   "execution_count": null,
   "metadata": {},
   "outputs": [],
   "source": []
  }
 ],
 "metadata": {
  "kernelspec": {
   "display_name": "Python 3",
   "language": "python",
   "name": "python3"
  },
  "language_info": {
   "codemirror_mode": {
    "name": "ipython",
    "version": 3
   },
   "file_extension": ".py",
   "mimetype": "text/x-python",
   "name": "python",
   "nbconvert_exporter": "python",
   "pygments_lexer": "ipython3",
   "version": "3.8.3"
  }
 },
 "nbformat": 4,
 "nbformat_minor": 4
}
