{
 "cells": [
  {
   "cell_type": "markdown",
   "metadata": {},
   "source": [
    "$Signal\\;and\\;system$"
   ]
  },
  {
   "cell_type": "markdown",
   "metadata": {},
   "source": [
    "$Phase\\;2$"
   ]
  },
  {
   "cell_type": "code",
   "execution_count": 3,
   "metadata": {},
   "outputs": [],
   "source": [
    "import cv2\n",
    "import pydub\n",
    "import numpy as np\n",
    "import sounddevice as sd\n",
    "from matplotlib import pyplot as plt\n",
    "from scipy.io.wavfile import read, write\n",
    "from scipy.spatial.distance import cdist"
   ]
  },
  {
   "cell_type": "code",
   "execution_count": 4,
   "metadata": {},
   "outputs": [],
   "source": [
    "notes_base = 2**(np.arange(12)/12)*27.5\n",
    "notes_duration = np.array([3200, 1600, 800, 400, 200, 100])*0.7\n",
    "notes_ann = ['A', 'A#', 'B', 'C', 'C#', 'D', 'Eb', 'E', 'F', 'F#', 'G', 'G#']\n",
    "\n",
    "def sin_wave(f, n, fs):\n",
    "    x = np.linspace(0, 2*np.pi, n)\n",
    "    ring = 30 \n",
    "    xp = np.linspace(0, -1*(n*ring/fs), n)\n",
    "    y = np.sin(x*f*(n/fs))*np.exp(xp)\n",
    "    z = np.zeros([n, 2])\n",
    "    z[:, 0] = y\n",
    "    z[:, 1] = y\n",
    "    return z\n",
    "\n",
    "def play_note(note_id, octave, dur, fs):\n",
    "    if (note_id < 3) :\n",
    "        octave += 1\n",
    "    y = sin_wave(notes_base[note_id]*2**octave, int(notes_duration[dur]*(fs/1000)), fs)\n",
    "    sd.play(y, fs)\n",
    "    sd.wait()\n",
    "    return \n",
    "\n",
    "def put_note(note_id, octave, dur, fs):\n",
    "    if (note_id < 3) :\n",
    "        octave += 1\n",
    "    y = sin_wave(notes_base[note_id]*2**octave, int(notes_duration[dur]*(fs/1000)), fs)\n",
    "    return y\n",
    "\n",
    "def get_music(music_notes, fs):\n",
    "    m = []\n",
    "    for item in music_notes:\n",
    "        y = put_note(item[0], item[1], item[2], fs)\n",
    "        m.append(y)\n",
    "    m = np.concatenate(m, 0)\n",
    "    return m\n",
    "\n",
    "fs1 = 44100\n",
    "music = [[8, 5, 3], [10, 5, 4], [10, 5, 4], [10, 5, 3], [10, 5, 3], [10, 5, 3], [10, 5, 3], [10, 5, 3], [10, 5, 3], \n",
    "        [11, 5, 4], [4, 5, 4], [11, 5, 4], [4, 5, 4], [11, 5, 4], [4, 5, 4], [11, 5, 4], [4, 5, 4], [3, 5, 3], \n",
    "        [8, 5, 4], [8, 5, 4], [8, 5, 3], [8, 5, 3], [8, 5, 3], [8, 5, 3], [8, 5, 3], [8, 5, 3], \n",
    "        [10, 5, 4], [3, 5, 4], [10, 5, 4], [3, 5, 4], [10, 5, 4], [3, 5, 4], [10, 5, 4], [3, 5, 4], [1, 4, 3]]\n",
    "\n",
    "y = get_music(music, fs1)\n",
    "sd.play(y, fs1)"
   ]
  },
  {
   "cell_type": "code",
   "execution_count": 5,
   "metadata": {},
   "outputs": [],
   "source": [
    "Scale = [[3,4,3], [5,4,3], [7,4,3], [8,4,3], [10,4,3], [0,4,3], [2,4,3], [3,5,3], \n",
    "        [2,4,3], [0,4,3], [10,4,3], [8,4,3], [7,4,3], [5,4,3], [3,4,3]]\n",
    "\n"
   ]
  },
  {
   "cell_type": "markdown",
   "metadata": {},
   "source": [
    "$Matching\\;Template$"
   ]
  },
  {
   "cell_type": "code",
   "execution_count": 6,
   "metadata": {},
   "outputs": [],
   "source": [
    "template_path = 'template.jpg'\n",
    "background_path = 'background.jpg'\n",
    "\n",
    "template = cv2.imread(template_path)\n",
    "background = cv2.imread(background_path)\n",
    "\n",
    "template_gray = cv2.cvtColor(template, cv2.COLOR_BGR2GRAY)\n",
    "background_gray = cv2.cvtColor(background, cv2.COLOR_BGR2GRAY)"
   ]
  },
  {
   "cell_type": "code",
   "execution_count": 7,
   "metadata": {},
   "outputs": [],
   "source": [
    "result = cv2.matchTemplate(background_gray, template_gray, cv2.TM_CCOEFF_NORMED)\n",
    "\n",
    "min_val, max_val, min_loc, max_loc = cv2.minMaxLoc(result)\n",
    "top_left = max_loc\n",
    "bottom_right = (top_left[0] + template.shape[1], top_left[1] + template.shape[0])"
   ]
  },
  {
   "cell_type": "code",
   "execution_count": 8,
   "metadata": {},
   "outputs": [
    {
     "data": {
      "text/plain": [
       "array([[[136, 159, 204],\n",
       "        [139, 162, 207],\n",
       "        [143, 166, 211],\n",
       "        ...,\n",
       "        [131, 153, 201],\n",
       "        [127, 150, 198],\n",
       "        [121, 144, 192]],\n",
       "\n",
       "       [[154, 178, 220],\n",
       "        [152, 176, 218],\n",
       "        [148, 172, 214],\n",
       "        ...,\n",
       "        [126, 149, 194],\n",
       "        [123, 146, 192],\n",
       "        [117, 142, 186]],\n",
       "\n",
       "       [[145, 171, 208],\n",
       "        [144, 170, 207],\n",
       "        [143, 169, 206],\n",
       "        ...,\n",
       "        [127, 150, 188],\n",
       "        [126, 148, 189],\n",
       "        [120, 146, 183]],\n",
       "\n",
       "       ...,\n",
       "\n",
       "       [[192, 200, 200],\n",
       "        [191, 199, 199],\n",
       "        [190, 198, 198],\n",
       "        ...,\n",
       "        [175, 181, 180],\n",
       "        [177, 183, 182],\n",
       "        [179, 185, 184]],\n",
       "\n",
       "       [[192, 200, 200],\n",
       "        [191, 199, 199],\n",
       "        [190, 198, 198],\n",
       "        ...,\n",
       "        [175, 181, 180],\n",
       "        [177, 183, 182],\n",
       "        [179, 185, 184]],\n",
       "\n",
       "       [[192, 200, 200],\n",
       "        [191, 199, 199],\n",
       "        [190, 198, 198],\n",
       "        ...,\n",
       "        [175, 181, 180],\n",
       "        [177, 183, 182],\n",
       "        [179, 185, 184]]], dtype=uint8)"
      ]
     },
     "execution_count": 8,
     "metadata": {},
     "output_type": "execute_result"
    }
   ],
   "source": [
    "cv2.rectangle(background, top_left, bottom_right, (0, 255, 0), 2)"
   ]
  },
  {
   "cell_type": "code",
   "execution_count": 9,
   "metadata": {},
   "outputs": [
    {
     "data": {
      "text/plain": [
       "True"
      ]
     },
     "execution_count": 9,
     "metadata": {},
     "output_type": "execute_result"
    }
   ],
   "source": [
    "cv2.imshow('Result', background)\n",
    "cv2.waitKey(0)\n",
    "cv2.destroyAllWindows()\n",
    "cv2.imwrite('TemplateMatching.jpg', background)"
   ]
  },
  {
   "cell_type": "markdown",
   "metadata": {},
   "source": [
    "$Twinkle,Twinkle, Little, Star$"
   ]
  },
  {
   "cell_type": "markdown",
   "metadata": {},
   "source": [
    "line"
   ]
  },
  {
   "cell_type": "code",
   "execution_count": 10,
   "metadata": {},
   "outputs": [],
   "source": [
    "image = cv2.imread('Twinkle, Twinkle, Little Star2.jpg')\n",
    "\n",
    "gray = image\n",
    "\n",
    "edges = cv2.Canny(gray,50,150,apertureSize=3)\n",
    "\n",
    "lines_list =[]\n",
    "lines = cv2.HoughLinesP(\n",
    "            edges, # Input edge image\n",
    "            1, # Distance resolution in pixels\n",
    "            np.pi/180, # Angle resolution in radians\n",
    "            threshold=100, # Min number of votes for valid line\n",
    "            minLineLength=800, # Min allowed length of line\n",
    "            maxLineGap=40 # Max allowed gap between line for joining them\n",
    "            )\n",
    "  \n",
    "# Iterate over points\n",
    "for points in lines:\n",
    "      # Extracted points nested in the list\n",
    "    x1,y1,x2,y2=points[0]\n",
    "    lines_list.append([(x1,y1),(x2,y2)])\n",
    "\n",
    "# Define a list to store the filtered lines\n",
    "filtered_lines = []\n",
    "\n",
    "def vertical_distance(p1, p2):\n",
    "    return abs(p1[1] - p2[1])\n",
    "\n",
    "for points in lines:\n",
    "    # Extract points nested in the list\n",
    "    x1, y1, x2, y2 = points[0]\n",
    "    is_close = False\n",
    "\n",
    "    for line in filtered_lines:\n",
    "        y1_existing, y2_existing = line[0][1], line[1][1]\n",
    "        dist1 = vertical_distance((x1, y1), (x1, y1_existing))\n",
    "        dist2 = vertical_distance((x2, y2), (x2, y2_existing))\n",
    "\n",
    "        if dist1 < 20 or dist2 < 20:\n",
    "            is_close = True\n",
    "            break\n",
    "            \n",
    "    if not is_close:\n",
    "        filtered_lines.append([(x1, y1), (x2, y2)])\n",
    "        cv2.line(image, (x1, y1), (x2, y2), (0, 255, 0), 1)\n",
    "\n",
    "        \n",
    "cv2.imshow('Result', image)\n",
    "cv2.waitKey(0)\n",
    "cv2.destroyAllWindows()"
   ]
  },
  {
   "cell_type": "markdown",
   "metadata": {},
   "source": [
    "finding notes"
   ]
  },
  {
   "cell_type": "code",
   "execution_count": 13,
   "metadata": {},
   "outputs": [],
   "source": [
    "template_path = 'B4.jpg'\n",
    "background_path = 'Twinkle, Twinkle, Little Star2.jpg'\n",
    "\n",
    "template = cv2.imread(template_path)\n",
    "background = cv2.imread(background_path)\n",
    "\n",
    "template_gray = cv2.cvtColor(template, cv2.COLOR_BGR2GRAY)\n",
    "background_gray = cv2.cvtColor(background, cv2.COLOR_BGR2GRAY)\n",
    " "
   ]
  },
  {
   "cell_type": "code",
   "execution_count": 14,
   "metadata": {},
   "outputs": [],
   "source": [
    "result = cv2.matchTemplate(background_gray, template_gray, cv2.TM_CCOEFF_NORMED)\n",
    "\n",
    "threshold = 0.75\n",
    "locations = np.where(result >= threshold)\n",
    "unique_locations = np.unique(locations)\n",
    "\n",
    "points = list(zip(*locations[::-1]))\n",
    "\n",
    "def filter_points(points, min_distance=30):\n",
    "    filtered_points = []\n",
    "    for point in points:\n",
    "        if not filtered_points:\n",
    "            filtered_points.append(point)\n",
    "        else:\n",
    "            distances = cdist([point], filtered_points)\n",
    "            if np.all(distances > min_distance):\n",
    "                filtered_points.append(point)\n",
    "    return filtered_points\n",
    "\n",
    "filtered_points = filter_points(points)\n",
    "\n",
    "filtered_locations = (np.array([p[1] for p in filtered_points]), np.array([p[0] for p in filtered_points]))\n",
    "\n",
    "numbers =[]\n",
    "numbers2 =[]\n",
    "num=0\n",
    "for pt in zip(*filtered_locations[::-1]):\n",
    "        cv2.rectangle(background, pt , (pt[0] + 60 , pt[1] + 20), (0, 255, 0), 1)\n",
    "        given_location = pt  \n",
    "        lines_within_range = []\n",
    "        for line in filtered_lines:\n",
    "            distance = (given_location[1] - line[0][1])\n",
    "            if 0 <= distance <= 150:\n",
    "                lines_within_range.append(line)\n",
    "        if len(lines_within_range)==5:\n",
    "            numbers.append(len(lines_within_range)) \n",
    "        elif len(lines_within_range)==3:\n",
    "            numbers.append(len(lines_within_range))\n",
    "        elif len(lines_within_range)==2:\n",
    "            numbers.append(len(lines_within_range))\n",
    "        elif len(lines_within_range)==4:\n",
    "            h=0\n",
    "            for line in lines_within_range:\n",
    "                if given_location[1] - line[0][1] >= 20 and given_location[1] - line[0][1] <= 30 and h==0:\n",
    "                    given_location[1] - line[0][1]\n",
    "                    h = 1\n",
    "                    numbers.append(41) \n",
    "                    break\n",
    "            if h==0:\n",
    "                numbers.append(len(lines_within_range))\n",
    "            "
   ]
  },
  {
   "cell_type": "code",
   "execution_count": 15,
   "metadata": {},
   "outputs": [],
   "source": [
    "cv2.imshow('Result', background)\n",
    "cv2.waitKey(0)\n",
    "cv2.destroyAllWindows()\n",
    "# cv2.imwrite('Twinkle_rec.jpg', background)"
   ]
  },
  {
   "cell_type": "code",
   "execution_count": 16,
   "metadata": {},
   "outputs": [],
   "source": [
    "line1=[]\n",
    "line2=[]\n",
    "line3=[]\n",
    "line1_num=[]\n",
    "line2_num=[]\n",
    "line3_num=[]\n",
    "i=0\n",
    "for pt in zip(*filtered_locations[::-1]):\n",
    "    if  pt[1]<=550:\n",
    "        line1_num.append(numbers[i])\n",
    "        line1.append(pt)\n",
    "    elif pt[1]>550 and pt[1]<=900:\n",
    "        line2_num.append(numbers[i])\n",
    "        line2.append(pt)\n",
    "    elif pt[1]>900 :\n",
    "        line3_num.append(numbers[i])\n",
    "        line3.append(pt)\n",
    "    else:\n",
    "        continue\n",
    "    i = i + 1\n"
   ]
  },
  {
   "cell_type": "code",
   "execution_count": 17,
   "metadata": {},
   "outputs": [],
   "source": [
    "combined_line1 = list(zip(line1, line1_num))\n",
    "\n",
    "sorted_line1 = sorted(combined_line1, key=lambda x: x[0][0])\n",
    "\n",
    "sorted_line1_num = [x[1] for x in sorted_line1]\n",
    "\n",
    "combined_line2 = list(zip(line2, line2_num))\n",
    "\n",
    "sorted_line2 = sorted(combined_line2, key=lambda x: x[0][0])\n",
    "\n",
    "sorted_line2_num = [x[1] for x in sorted_line2]\n",
    "\n",
    "combined_line3 = list(zip(line3, line3_num))\n",
    "\n",
    "sorted_line3 = sorted(combined_line3, key=lambda x: x[0][0])\n",
    "\n",
    "sorted_line3_num = [x[1] for x in sorted_line3]\n",
    "\n",
    "combined_num = sorted_line1_num  + sorted_line2_num + sorted_line3_num \n"
   ]
  },
  {
   "cell_type": "code",
   "execution_count": 18,
   "metadata": {},
   "outputs": [],
   "source": [
    "fb3=2**(2/12) *  2**2 * 55\n",
    "fb4=2**(2/12) *  2**3 * 55\n",
    "fc4=2**(3/12)  *  2**3 * 55\n",
    "fd4=2**(5/12)  *  2**3 * 55\n",
    "fg4=2**(10/12)  *  2**3 * 55\n",
    "fa4=2**(0/12)  *  2**3 * 55\n",
    "ff4=2**(8/12)  *  2**3 * 55\n",
    "fe4=2**(7/12)  *  2**3 * 55\n",
    "\n",
    "freqs = []\n",
    "for num in combined_num:\n",
    "    if num == 2:\n",
    "        freqs.append(fa4)\n",
    "    elif num == 3:\n",
    "        freqs.append(fg4)\n",
    "    elif num == 5:\n",
    "        freqs.append(fc4)\n",
    "    elif num == 4:\n",
    "        freqs.append(fe4)\n",
    "    elif num == 41:\n",
    "        freqs.append(ff4)\n",
    "        \n",
    "sample_rate = 44100\n",
    "duration = 4\n",
    "\n",
    "music = []\n",
    "i = 0\n",
    "\n",
    "while i < len(combined_num):\n",
    "    if combined_num[i] == 5:\n",
    "        music.append([3, 4, 1])\n",
    "        i += 1\n",
    "    elif combined_num[i] == 4:\n",
    "        music.append([7, 4, 1])\n",
    "        i += 1\n",
    "    elif combined_num[i] == 3:\n",
    "        music.append([10, 4, 1])\n",
    "        i += 1\n",
    "    elif combined_num[i] == 2:\n",
    "        music.append([0, 4, 1])\n",
    "        i += 1\n",
    "    elif combined_num[i] == 41:\n",
    "        music.append([9, 4, 1])\n",
    "        i += 1\n",
    "    else:\n",
    "        i += 1\n",
    "        \n",
    "y = get_music(music, sample_rate)\n",
    "sd.play(y, sample_rate)\n"
   ]
  },
  {
   "cell_type": "markdown",
   "metadata": {},
   "source": [
    "$Ave\\;Maria$"
   ]
  },
  {
   "cell_type": "code",
   "execution_count": null,
   "metadata": {},
   "outputs": [],
   "source": []
  },
  {
   "cell_type": "code",
   "execution_count": null,
   "metadata": {},
   "outputs": [],
   "source": []
  },
  {
   "cell_type": "code",
   "execution_count": null,
   "metadata": {},
   "outputs": [],
   "source": []
  }
 ],
 "metadata": {
  "kernelspec": {
   "display_name": "Python 3",
   "language": "python",
   "name": "python3"
  },
  "language_info": {
   "codemirror_mode": {
    "name": "ipython",
    "version": 3
   },
   "file_extension": ".py",
   "mimetype": "text/x-python",
   "name": "python",
   "nbconvert_exporter": "python",
   "pygments_lexer": "ipython3",
   "version": "3.8.3"
  }
 },
 "nbformat": 4,
 "nbformat_minor": 4
}
